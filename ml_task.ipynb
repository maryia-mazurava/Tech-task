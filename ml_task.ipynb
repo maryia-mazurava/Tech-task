{
 "cells": [
  {
   "cell_type": "code",
   "execution_count": 10,
   "metadata": {},
   "outputs": [
    {
     "data": {
      "text/plain": "         Date       Location  MinTemp  MaxTemp  Rainfall  Evaporation  \\\n0  16/11/2008       Brisbane     21.0     31.9       0.0          6.4   \n1  11/06/2009     Wollongong      6.6     16.0       0.0          NaN   \n2  29/03/2010  BadgerysCreek     19.1     24.3       0.8          NaN   \n3  29/03/2016         Cairns     22.9     32.6       0.0          NaN   \n4  22/08/2012         Sydney     10.6     24.7       0.0          3.8   \n\n   Sunshine WindGustDir  WindGustSpeed WindDir_9am  ... Humidity_3pm  \\\n0       9.7          SE           48.0           E  ...         64.0   \n1       NaN          SW           37.0           W  ...         37.0   \n2       NaN         NaN            NaN         NaN  ...          NaN   \n3      10.7          SE           37.0           S  ...         58.0   \n4       9.1         NaN            NaN         WNW  ...         54.0   \n\n   Pressure_9am  Pressure_3pm  Cloud_9am  Cloud_3pm  Temp_9am  Temp_3pm  \\\n0        1012.6        1007.9        3.0        7.0      27.9      28.2   \n1        1020.0        1018.0        NaN        NaN      10.6      15.5   \n2        1017.5           NaN        NaN        NaN      21.2       NaN   \n3        1016.5        1013.2        1.0        2.0      28.3      31.2   \n4        1015.5        1010.4        6.0        6.0      16.1      20.8   \n\n   RainToday  RISK_MM  RainTomorrow  \n0         No     31.8           Yes  \n1         No      0.0            No  \n2         No      7.0           Yes  \n3         No      0.0            No  \n4         No      0.0            No  \n\n[5 rows x 24 columns]",
      "text/html": "<div>\n<style scoped>\n    .dataframe tbody tr th:only-of-type {\n        vertical-align: middle;\n    }\n\n    .dataframe tbody tr th {\n        vertical-align: top;\n    }\n\n    .dataframe thead th {\n        text-align: right;\n    }\n</style>\n<table border=\"1\" class=\"dataframe\">\n  <thead>\n    <tr style=\"text-align: right;\">\n      <th></th>\n      <th>Date</th>\n      <th>Location</th>\n      <th>MinTemp</th>\n      <th>MaxTemp</th>\n      <th>Rainfall</th>\n      <th>Evaporation</th>\n      <th>Sunshine</th>\n      <th>WindGustDir</th>\n      <th>WindGustSpeed</th>\n      <th>WindDir_9am</th>\n      <th>...</th>\n      <th>Humidity_3pm</th>\n      <th>Pressure_9am</th>\n      <th>Pressure_3pm</th>\n      <th>Cloud_9am</th>\n      <th>Cloud_3pm</th>\n      <th>Temp_9am</th>\n      <th>Temp_3pm</th>\n      <th>RainToday</th>\n      <th>RISK_MM</th>\n      <th>RainTomorrow</th>\n    </tr>\n  </thead>\n  <tbody>\n    <tr>\n      <th>0</th>\n      <td>16/11/2008</td>\n      <td>Brisbane</td>\n      <td>21.0</td>\n      <td>31.9</td>\n      <td>0.0</td>\n      <td>6.4</td>\n      <td>9.7</td>\n      <td>SE</td>\n      <td>48.0</td>\n      <td>E</td>\n      <td>...</td>\n      <td>64.0</td>\n      <td>1012.6</td>\n      <td>1007.9</td>\n      <td>3.0</td>\n      <td>7.0</td>\n      <td>27.9</td>\n      <td>28.2</td>\n      <td>No</td>\n      <td>31.8</td>\n      <td>Yes</td>\n    </tr>\n    <tr>\n      <th>1</th>\n      <td>11/06/2009</td>\n      <td>Wollongong</td>\n      <td>6.6</td>\n      <td>16.0</td>\n      <td>0.0</td>\n      <td>NaN</td>\n      <td>NaN</td>\n      <td>SW</td>\n      <td>37.0</td>\n      <td>W</td>\n      <td>...</td>\n      <td>37.0</td>\n      <td>1020.0</td>\n      <td>1018.0</td>\n      <td>NaN</td>\n      <td>NaN</td>\n      <td>10.6</td>\n      <td>15.5</td>\n      <td>No</td>\n      <td>0.0</td>\n      <td>No</td>\n    </tr>\n    <tr>\n      <th>2</th>\n      <td>29/03/2010</td>\n      <td>BadgerysCreek</td>\n      <td>19.1</td>\n      <td>24.3</td>\n      <td>0.8</td>\n      <td>NaN</td>\n      <td>NaN</td>\n      <td>NaN</td>\n      <td>NaN</td>\n      <td>NaN</td>\n      <td>...</td>\n      <td>NaN</td>\n      <td>1017.5</td>\n      <td>NaN</td>\n      <td>NaN</td>\n      <td>NaN</td>\n      <td>21.2</td>\n      <td>NaN</td>\n      <td>No</td>\n      <td>7.0</td>\n      <td>Yes</td>\n    </tr>\n    <tr>\n      <th>3</th>\n      <td>29/03/2016</td>\n      <td>Cairns</td>\n      <td>22.9</td>\n      <td>32.6</td>\n      <td>0.0</td>\n      <td>NaN</td>\n      <td>10.7</td>\n      <td>SE</td>\n      <td>37.0</td>\n      <td>S</td>\n      <td>...</td>\n      <td>58.0</td>\n      <td>1016.5</td>\n      <td>1013.2</td>\n      <td>1.0</td>\n      <td>2.0</td>\n      <td>28.3</td>\n      <td>31.2</td>\n      <td>No</td>\n      <td>0.0</td>\n      <td>No</td>\n    </tr>\n    <tr>\n      <th>4</th>\n      <td>22/08/2012</td>\n      <td>Sydney</td>\n      <td>10.6</td>\n      <td>24.7</td>\n      <td>0.0</td>\n      <td>3.8</td>\n      <td>9.1</td>\n      <td>NaN</td>\n      <td>NaN</td>\n      <td>WNW</td>\n      <td>...</td>\n      <td>54.0</td>\n      <td>1015.5</td>\n      <td>1010.4</td>\n      <td>6.0</td>\n      <td>6.0</td>\n      <td>16.1</td>\n      <td>20.8</td>\n      <td>No</td>\n      <td>0.0</td>\n      <td>No</td>\n    </tr>\n  </tbody>\n</table>\n<p>5 rows × 24 columns</p>\n</div>"
     },
     "execution_count": 10,
     "metadata": {},
     "output_type": "execute_result"
    }
   ],
   "source": [
    "import pandas as pd\n",
    "\n",
    "# Load the dataset and add some attributes because of empty rows and columns\n",
    "data = pd.read_excel('australia_weather.xlsx', skiprows=9, usecols='C:Z')\n",
    "\n",
    "# Clean row-and-column structure to make it readable and accessible\n",
    "data.columns = ['Date', 'Location', 'MinTemp', 'MaxTemp', 'Rainfall', 'Evaporation', \n",
    "                'Sunshine', 'WindGustDir', 'WindGustSpeed', 'WindDir_9am', 'WindDir_3pm', \n",
    "                'WindSpeed_9am', 'WindSpeed_3pm', 'Humidity_9am', 'Humidity_3pm',\n",
    "                'Pressure_9am', 'Pressure_3pm', 'Cloud_9am', 'Cloud_3pm', 'Temp_9am',\n",
    "                'Temp_3pm', 'RainToday', 'RISK_MM', 'RainTomorrow']\n",
    "\n",
    "# Display the first 5 rows of the dataset to ensure it has a correct format\n",
    "data.head()"
   ]
  },
  {
   "cell_type": "code",
   "execution_count": 11,
   "metadata": {},
   "outputs": [
    {
     "name": "stdout",
     "output_type": "stream",
     "text": [
      "Shape of the dataset: (156412, 24)\n",
      "\n",
      "Data types:\n",
      " Date              object\n",
      "Location          object\n",
      "MinTemp          float64\n",
      "MaxTemp          float64\n",
      "Rainfall         float64\n",
      "Evaporation      float64\n",
      "Sunshine         float64\n",
      "WindGustDir       object\n",
      "WindGustSpeed    float64\n",
      "WindDir_9am       object\n",
      "WindDir_3pm       object\n",
      "WindSpeed_9am    float64\n",
      "WindSpeed_3pm    float64\n",
      "Humidity_9am     float64\n",
      "Humidity_3pm     float64\n",
      "Pressure_9am     float64\n",
      "Pressure_3pm     float64\n",
      "Cloud_9am        float64\n",
      "Cloud_3pm        float64\n",
      "Temp_9am         float64\n",
      "Temp_3pm         float64\n",
      "RainToday         object\n",
      "RISK_MM          float64\n",
      "RainTomorrow      object\n",
      "dtype: object\n",
      "\n",
      "Summary statistics for each column:\n",
      "              MinTemp        MaxTemp       Rainfall   Evaporation  \\\n",
      "count  155712.000000  156058.000000  154883.000000  89520.000000   \n",
      "mean       12.188566      23.230174       2.351982      5.471000   \n",
      "std         6.402848       7.116761       8.503384      4.177037   \n",
      "min        -8.500000      -4.800000       0.000000      0.000000   \n",
      "25%         7.600000      17.900000       0.000000      2.600000   \n",
      "50%        12.000000      22.600000       0.000000      4.800000   \n",
      "75%        16.800000      28.200000       0.800000      7.400000   \n",
      "max        33.900000      48.100000     371.000000    145.000000   \n",
      "\n",
      "           Sunshine  WindGustSpeed  WindSpeed_9am  WindSpeed_3pm  \\\n",
      "count  81873.000000  146216.000000  154920.000000  153497.000000   \n",
      "mean       7.630276      39.968731      14.005345      18.629419   \n",
      "std        3.781902      13.564738       8.886592       8.793470   \n",
      "min        0.000000       6.000000       0.000000       0.000000   \n",
      "25%        4.900000      31.000000       7.000000      13.000000   \n",
      "50%        8.500000      39.000000      13.000000      19.000000   \n",
      "75%       10.600000      48.000000      19.000000      24.000000   \n",
      "max       14.500000     135.000000     130.000000      87.000000   \n",
      "\n",
      "       Humidity_9am   Humidity_3pm   Pressure_9am   Pressure_3pm  \\\n",
      "count  154472.00000  152419.000000  141032.000000  141048.000000   \n",
      "mean       68.85163      51.484572    1021.495125    1018.046249   \n",
      "std        19.04037      20.785725     187.687615     159.619616   \n",
      "min         0.00000       0.000000     980.500000     977.100000   \n",
      "25%        57.00000      37.000000    1013.000000    1010.500000   \n",
      "50%        70.00000      52.000000    1017.600000    1015.200000   \n",
      "75%        83.00000      66.000000    1022.400000    1020.000000   \n",
      "max       100.00000     100.000000   10340.000000   10326.000000   \n",
      "\n",
      "          Cloud_9am     Cloud_3pm       Temp_9am       Temp_3pm        RISK_MM  \n",
      "count  97385.000000  93669.000000  155424.000000  153391.000000  156412.000000  \n",
      "mean       4.435293      4.499856      16.990990      21.691064       2.357714  \n",
      "std        2.887778      2.721346       6.491253       6.935762       8.516015  \n",
      "min        0.000000      0.000000      -7.200000      -5.400000       0.000000  \n",
      "25%        1.000000      2.000000      12.300000      16.600000       0.000000  \n",
      "50%        5.000000      5.000000      16.700000      21.100000       0.000000  \n",
      "75%        7.000000      7.000000      21.600000      26.400000       0.800000  \n",
      "max        9.000000      9.000000      40.200000      46.700000     371.000000  \n",
      "\n",
      "Unique values in 'RainToday':\n",
      " ['No' 'Yes' nan]\n",
      "\n",
      "Unique values in 'RainTomorrow':\n",
      " ['Yes' 'No']\n"
     ]
    }
   ],
   "source": [
    "# Exploring the dataset\n",
    "\n",
    "# Check the shape of the dataset\n",
    "print(\"Shape of the dataset:\", data.shape)\n",
    "\n",
    "# Check the data types of each column\n",
    "print(\"\\nData types:\\n\", data.dtypes)\n",
    "\n",
    "# Check the summary statistics\n",
    "print(\"\\nSummary statistics for each column:\\n\", data.describe())\n",
    "\n",
    "# Check the unique values in the 'RainToday' column\n",
    "print(\"\\nUnique values in 'RainToday':\\n\", data['RainToday'].unique())\n",
    "\n",
    "# Check the unique values in the 'RainTomorrow' column\n",
    "print(\"\\nUnique values in 'RainTomorrow':\\n\", data['RainTomorrow'].unique())"
   ]
  },
  {
   "cell_type": "code",
   "execution_count": 12,
   "metadata": {},
   "outputs": [
    {
     "data": {
      "text/plain": "         Date          Location  MinTemp  MaxTemp  Rainfall  Evaporation  \\\n0  16/11/2008          Brisbane     21.0     31.9       0.0          6.4   \n1  04/04/2009           Woomera     13.1     23.4       0.0         13.2   \n2  17/08/2008         Melbourne      7.8     12.9       4.2          1.4   \n3  17/05/2009  MelbourneAirport      9.0     16.0       0.4          2.8   \n4  24/10/2014      AliceSprings     22.6     38.0       0.0         14.6   \n\n   Sunshine WindGustDir  WindGustSpeed WindDir_9am  ... Humidity_3pm  \\\n0       9.7          SE           48.0           E  ...         64.0   \n1      10.1         SSE           50.0         SSE  ...         30.0   \n2       2.8          SW           31.0          SW  ...         56.0   \n3       0.9          SW           35.0           W  ...         58.0   \n4      10.7         NNW           41.0           N  ...          9.0   \n\n   Pressure_9am  Pressure_3pm  Cloud_9am  Cloud_3pm  Temp_9am  Temp_3pm  \\\n0        1012.6        1007.9        3.0        7.0      27.9      28.2   \n1        1025.9        1023.3        7.0        0.0      15.7      22.3   \n2        1025.6        1025.3        5.0        7.0       8.6      11.5   \n3        1021.8        1020.6        7.0        7.0      12.6      15.8   \n4        1016.3        1012.3        6.0        6.0      31.7      36.9   \n\n   RainToday  RISK_MM  RainTomorrow  \n0         No     31.8           Yes  \n1         No      0.0            No  \n2        Yes      0.4            No  \n3         No      0.0            No  \n4         No      0.0            No  \n\n[5 rows x 24 columns]",
      "text/html": "<div>\n<style scoped>\n    .dataframe tbody tr th:only-of-type {\n        vertical-align: middle;\n    }\n\n    .dataframe tbody tr th {\n        vertical-align: top;\n    }\n\n    .dataframe thead th {\n        text-align: right;\n    }\n</style>\n<table border=\"1\" class=\"dataframe\">\n  <thead>\n    <tr style=\"text-align: right;\">\n      <th></th>\n      <th>Date</th>\n      <th>Location</th>\n      <th>MinTemp</th>\n      <th>MaxTemp</th>\n      <th>Rainfall</th>\n      <th>Evaporation</th>\n      <th>Sunshine</th>\n      <th>WindGustDir</th>\n      <th>WindGustSpeed</th>\n      <th>WindDir_9am</th>\n      <th>...</th>\n      <th>Humidity_3pm</th>\n      <th>Pressure_9am</th>\n      <th>Pressure_3pm</th>\n      <th>Cloud_9am</th>\n      <th>Cloud_3pm</th>\n      <th>Temp_9am</th>\n      <th>Temp_3pm</th>\n      <th>RainToday</th>\n      <th>RISK_MM</th>\n      <th>RainTomorrow</th>\n    </tr>\n  </thead>\n  <tbody>\n    <tr>\n      <th>0</th>\n      <td>16/11/2008</td>\n      <td>Brisbane</td>\n      <td>21.0</td>\n      <td>31.9</td>\n      <td>0.0</td>\n      <td>6.4</td>\n      <td>9.7</td>\n      <td>SE</td>\n      <td>48.0</td>\n      <td>E</td>\n      <td>...</td>\n      <td>64.0</td>\n      <td>1012.6</td>\n      <td>1007.9</td>\n      <td>3.0</td>\n      <td>7.0</td>\n      <td>27.9</td>\n      <td>28.2</td>\n      <td>No</td>\n      <td>31.8</td>\n      <td>Yes</td>\n    </tr>\n    <tr>\n      <th>1</th>\n      <td>04/04/2009</td>\n      <td>Woomera</td>\n      <td>13.1</td>\n      <td>23.4</td>\n      <td>0.0</td>\n      <td>13.2</td>\n      <td>10.1</td>\n      <td>SSE</td>\n      <td>50.0</td>\n      <td>SSE</td>\n      <td>...</td>\n      <td>30.0</td>\n      <td>1025.9</td>\n      <td>1023.3</td>\n      <td>7.0</td>\n      <td>0.0</td>\n      <td>15.7</td>\n      <td>22.3</td>\n      <td>No</td>\n      <td>0.0</td>\n      <td>No</td>\n    </tr>\n    <tr>\n      <th>2</th>\n      <td>17/08/2008</td>\n      <td>Melbourne</td>\n      <td>7.8</td>\n      <td>12.9</td>\n      <td>4.2</td>\n      <td>1.4</td>\n      <td>2.8</td>\n      <td>SW</td>\n      <td>31.0</td>\n      <td>SW</td>\n      <td>...</td>\n      <td>56.0</td>\n      <td>1025.6</td>\n      <td>1025.3</td>\n      <td>5.0</td>\n      <td>7.0</td>\n      <td>8.6</td>\n      <td>11.5</td>\n      <td>Yes</td>\n      <td>0.4</td>\n      <td>No</td>\n    </tr>\n    <tr>\n      <th>3</th>\n      <td>17/05/2009</td>\n      <td>MelbourneAirport</td>\n      <td>9.0</td>\n      <td>16.0</td>\n      <td>0.4</td>\n      <td>2.8</td>\n      <td>0.9</td>\n      <td>SW</td>\n      <td>35.0</td>\n      <td>W</td>\n      <td>...</td>\n      <td>58.0</td>\n      <td>1021.8</td>\n      <td>1020.6</td>\n      <td>7.0</td>\n      <td>7.0</td>\n      <td>12.6</td>\n      <td>15.8</td>\n      <td>No</td>\n      <td>0.0</td>\n      <td>No</td>\n    </tr>\n    <tr>\n      <th>4</th>\n      <td>24/10/2014</td>\n      <td>AliceSprings</td>\n      <td>22.6</td>\n      <td>38.0</td>\n      <td>0.0</td>\n      <td>14.6</td>\n      <td>10.7</td>\n      <td>NNW</td>\n      <td>41.0</td>\n      <td>N</td>\n      <td>...</td>\n      <td>9.0</td>\n      <td>1016.3</td>\n      <td>1012.3</td>\n      <td>6.0</td>\n      <td>6.0</td>\n      <td>31.7</td>\n      <td>36.9</td>\n      <td>No</td>\n      <td>0.0</td>\n      <td>No</td>\n    </tr>\n  </tbody>\n</table>\n<p>5 rows × 24 columns</p>\n</div>"
     },
     "execution_count": 12,
     "metadata": {},
     "output_type": "execute_result"
    }
   ],
   "source": [
    "# Since there are missing values (NaN) in the table it is necessary to clean\n",
    "# the dataset. Resetting the indexes of the rows for better reading of the table. \n",
    "data.dropna(inplace=True)\n",
    "data.reset_index(drop=True, inplace=True)\n",
    "data.head()"
   ]
  },
  {
   "cell_type": "code",
   "execution_count": 13,
   "metadata": {},
   "outputs": [
    {
     "name": "stderr",
     "output_type": "stream",
     "text": [
      "/Users/maryiamazurava/anaconda3/lib/python3.10/site-packages/sklearn/preprocessing/_encoders.py:868: FutureWarning: `sparse` was renamed to `sparse_output` in version 1.2 and will be removed in 1.4. `sparse_output` is ignored unless you leave `sparse` to its default value.\n",
      "  warnings.warn(\n"
     ]
    }
   ],
   "source": [
    "# Starting data preprocessing\n",
    "\n",
    "from sklearn.model_selection import train_test_split\n",
    "from sklearn.preprocessing import OneHotEncoder\n",
    "\n",
    "# Separate categorical and numerical columns\n",
    "categorical_cols = []\n",
    "numerical_cols = []\n",
    "for col in data.columns:\n",
    "    if data[col].dtype == 'object':\n",
    "        categorical_cols.append(col)\n",
    "    else:\n",
    "        numerical_cols.append(col)\n",
    "\n",
    "# One-hot encoding of the categorical variables. This method of encoding is chosen to avoid\n",
    "# implied order or hierarchy in the dataset like in label or ordinal encodings.\n",
    "encoder = OneHotEncoder(sparse=False, drop='first')\n",
    "encoded_features = encoder.fit_transform(data[categorical_cols])\n",
    "encoded_df = pd.DataFrame(encoded_features)\n",
    "\n",
    "# Retrieve feature names\n",
    "feature_names = []\n",
    "for i, col in enumerate(categorical_cols):\n",
    "    unique_categories = data[col].unique()\n",
    "    for category in unique_categories[1:]:\n",
    "        feature_name = f\"{col}_{category}\"\n",
    "        feature_names.append(feature_name)\n",
    "\n",
    "# Set feature names for the encoded DataFrame\n",
    "encoded_df.columns = feature_names\n",
    "\n",
    "# Combine encoded features with numerical features horizontally to get the final dataset\n",
    "data_encoded = pd.concat([data[numerical_cols], encoded_df], axis=1)\n",
    "\n",
    "# Define target variables\n",
    "target_classification = data['RainTomorrow']\n",
    "target_regression = data['RISK_MM']\n",
    "\n",
    "# Split the dataset into training and testing sets\n",
    "X_train_class, X_test_class, y_train_class, y_test_class = train_test_split(data_encoded, target_classification, test_size=0.2, random_state=42)\n",
    "X_train_reg, X_test_reg, y_train_reg, y_test_reg = train_test_split(data_encoded, target_regression, test_size=0.2, random_state=42)"
   ]
  },
  {
   "cell_type": "code",
   "execution_count": null,
   "metadata": {
    "scrolled": true,
    "pycharm": {
     "is_executing": true
    }
   },
   "outputs": [
    {
     "name": "stdout",
     "output_type": "stream",
     "text": [
      "Accuracy of Random Forest classifier: 1.0\n",
      "Classification Report:\n",
      "              precision    recall  f1-score   support\n",
      "\n",
      "          No       1.00      1.00      1.00      9680\n",
      "         Yes       1.00      1.00      1.00      2742\n",
      "\n",
      "    accuracy                           1.00     12422\n",
      "   macro avg       1.00      1.00      1.00     12422\n",
      "weighted avg       1.00      1.00      1.00     12422\n",
      "\n",
      "Confusion Matrix:\n",
      "[[9680    0]\n",
      " [   0 2742]]\n"
     ]
    }
   ],
   "source": [
    "# For the classification task (predicting 'RainTomorrow'), \n",
    "# we will train a Random Forest classifier.\n",
    "\n",
    "# For the regression task (predicting 'RISK_MM'),\n",
    "# we will train a Gradient Boosting regressor.\n",
    "\n",
    "from sklearn.ensemble import RandomForestClassifier\n",
    "from sklearn.metrics import accuracy_score\n",
    "from sklearn.ensemble import GradientBoostingRegressor\n",
    "from sklearn.metrics import mean_squared_error\n",
    "from sklearn.metrics import classification_report, confusion_matrix\n",
    "from sklearn.metrics import mean_absolute_error, r2_score\n",
    "\n",
    "\n",
    "# Train the Random Forest Classifier\n",
    "classifier = RandomForestClassifier()\n",
    "classifier.fit(X_train_class, y_train_class)\n",
    "\n",
    "# Make predictions on the test set for classification\n",
    "y_pred_class = classifier.predict(X_test_class)\n",
    "\n",
    "# Calculate accuracy and other classification metrics\n",
    "accuracy = accuracy_score(y_test_class, y_pred_class)\n",
    "classification_report = classification_report(y_test_class, y_pred_class)\n",
    "confusion_matrix = confusion_matrix(y_test_class, y_pred_class)\n",
    "\n",
    "print(\"Accuracy of Random Forest classifier:\", accuracy)\n",
    "print(\"Classification Report:\")\n",
    "print(classification_report)\n",
    "print(\"Confusion Matrix:\")\n",
    "print(confusion_matrix)\n",
    "\n",
    "# Train the Gradient Boosting Regressor\n",
    "regressor = GradientBoostingRegressor()\n",
    "regressor.fit(X_train_reg, y_train_reg)\n",
    "\n",
    "# Make predictions on the test set for regression\n",
    "y_pred_reg = regressor.predict(X_test_reg)\n",
    "\n",
    "# Calculate regression metrics\n",
    "mse = mean_squared_error(y_test_reg, y_pred_reg)\n",
    "mae = mean_absolute_error(y_test_reg, y_pred_reg)\n",
    "r2 = r2_score(y_test_reg, y_pred_reg)\n",
    "\n",
    "print(\"Mean Squared Error of Gradient Boosting regressor:\", mse)\n",
    "print(\"Mean Absolute Error:\", mae)\n",
    "print(\"R-squared:\", r2)"
   ]
  },
  {
   "cell_type": "code",
   "execution_count": null,
   "metadata": {
    "pycharm": {
     "is_executing": true
    }
   },
   "outputs": [],
   "source": [
    "# The results are quite good. The accuracy of Random Forest classifier is 1.0, which is  \n",
    "# highly unusual. However, high accuracy can be achieved, but it is crucial to \n",
    "# carefully analyze the data and modeling process to ensure the validity of the\n",
    "# results and avoid poten`tial issues such as overfitting or bias.\n",
    "\n",
    "# First check the numerical values of the dataset for the outliers. If the dataset is \n",
    "# clean from them, it can lead to high accuracy.\n",
    "import matplotlib.pyplot as plt\n",
    "\n",
    "plt.figure(figsize=(12, 8))\n",
    "data[numerical_cols].boxplot()\n",
    "plt.xticks(rotation=90)\n",
    "plt.title(\"Box plots of Numerical Features\")\n",
    "plt.xlabel(\"Feature\")\n",
    "plt.ylabel(\"Value\")\n",
    "plt.show()"
   ]
  },
  {
   "cell_type": "code",
   "execution_count": null,
   "metadata": {
    "pycharm": {
     "is_executing": true
    }
   },
   "outputs": [],
   "source": [
    "# As we can see from the plot, the data of each feature are quite similar and there are\n",
    "# almost no outliers in the dataset. The percent of them in the Pressure column is very low.\n",
    "outliers_3pm = len(data[data['Pressure_3pm'] > 9000])\n",
    "outliers_9am = len(data[data['Pressure_9am'] > 9000])\n",
    "count_3pm = len(data[data['Pressure_3pm'] > 0])\n",
    "count_9am = len(data[data['Pressure_9am'] > 0])\n",
    "print(f\"Number of rows with pressure values greater than 8000: 3pm: {outliers_3pm}, 9am: {outliers_9am}\")\n",
    "print(f\"Percent of outliers at 9am: {100*outliers_9am/count_9am}%\")\n",
    "print(f\"Percent of outliers at 3pm: {100*outliers_3pm/count_3pm}%\")"
   ]
  },
  {
   "cell_type": "code",
   "execution_count": null,
   "metadata": {
    "pycharm": {
     "is_executing": true
    }
   },
   "outputs": [],
   "source": [
    "# As the result we can assume that the model was trained very well. There are a lot of \n",
    "# reasons of the perfect accuracy of the classification task and almost perfect results\n",
    "# of the regression task. Firstly, the dataset contains a lot of features, which helps\n",
    "# to train model to predict more accurate results. Secondly, well-performed data \n",
    "# preprocessing is very crucial for training the models. Thirdly, classification values\n",
    "# are quite simple: Yes or No. This also a reason for better performance of the model. \n",
    "# And finally, dataset almost doesn't contain any outliers."
   ]
  },
  {
   "cell_type": "code",
   "execution_count": null,
   "metadata": {
    "pycharm": {
     "is_executing": true
    }
   },
   "outputs": [],
   "source": []
  },
  {
   "cell_type": "code",
   "execution_count": null,
   "metadata": {
    "pycharm": {
     "is_executing": true
    }
   },
   "outputs": [],
   "source": [
    "\n"
   ]
  },
  {
   "cell_type": "code",
   "execution_count": null,
   "metadata": {
    "pycharm": {
     "is_executing": true
    }
   },
   "outputs": [],
   "source": []
  },
  {
   "cell_type": "code",
   "execution_count": null,
   "metadata": {
    "pycharm": {
     "is_executing": true
    }
   },
   "outputs": [],
   "source": []
  }
 ],
 "metadata": {
  "kernelspec": {
   "display_name": "Python 3 (ipykernel)",
   "language": "python",
   "name": "python3"
  },
  "language_info": {
   "codemirror_mode": {
    "name": "ipython",
    "version": 3
   },
   "file_extension": ".py",
   "mimetype": "text/x-python",
   "name": "python",
   "nbconvert_exporter": "python",
   "pygments_lexer": "ipython3",
   "version": "3.10.9"
  }
 },
 "nbformat": 4,
 "nbformat_minor": 1
}
